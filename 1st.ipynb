{
 "cells": [
  {
   "cell_type": "code",
   "execution_count": 8,
   "metadata": {},
   "outputs": [],
   "source": [
    "import networkx as nx\n",
    "from matplotlib import pyplot as plt"
   ]
  },
  {
   "cell_type": "code",
   "execution_count": null,
   "metadata": {},
   "outputs": [],
   "source": []
  },
  {
   "cell_type": "code",
   "execution_count": 66,
   "metadata": {},
   "outputs": [],
   "source": [
    "G = nx.Graph()\n",
    "G.add_nodes_from([1,2,3,4])\n",
    "G.add_edge(1, 2, weight=4, name='A')\n",
    "G.add_edge(2, 3, weight=2, name='B')\n",
    "G.add_edge(1, 3, weight=3, name='c')\n",
    "G.add_edge(3, 4, weight=4, name='D')\n",
    "pos=nx.spring_layout(G)\n",
    "edge_label={(1,2):'A',(2,3):'B',(1,3):'C',(3,4):'D'}"
   ]
  },
  {
   "cell_type": "code",
   "execution_count": 67,
   "metadata": {},
   "outputs": [
    {
     "data": {
      "image/png": "[encoded data removed]",
      "text/plain": [
       "<Figure size 432x288 with 1 Axes>"
      ]
     },
     "metadata": {},
     "output_type": "display_data"
    }
   ],
   "source": [
    "nx.draw(G,pos,with_labels=True)\n",
    "nx.draw_networkx_edge_labels(G,pos,edge_labels=edge_label)\n",
    "plt.axis('off')\n",
    "plt.show()"
   ]
  },
  {
   "cell_type": "code",
   "execution_count": 18,
   "metadata": {},
   "outputs": [
    {
     "data": {
      "image/png": "[encoded data removed]",
      "text/plain": [
       "<Figure size 432x288 with 1 Axes>"
      ]
     },
     "metadata": {},
     "output_type": "display_data"
    }
   ],
   "source": [
    "nx.draw(nx.path_graph(10))\n",
    "plt.show()"
   ]
  },
  {
   "cell_type": "code",
   "execution_count": 49,
   "metadata": {},
   "outputs": [
    {
     "name": "stdout",
     "output_type": "stream",
     "text": [
      "Help on method add_edge in module networkx.classes.graph:\n",
      "\n",
      "add_edge(u_of_edge, v_of_edge, **attr) method of networkx.classes.graph.Graph instance\n",
      "    Add an edge between u and v.\n",
      "    \n",
      "    The nodes u and v will be automatically added if they are\n",
      "    not already in the graph.\n",
      "    \n",
      "    Edge attributes can be specified with keywords or by directly\n",
      "    accessing the edge's attribute dictionary. See examples below.\n",
      "    \n",
      "    Parameters\n",
      "    ----------\n",
      "    u, v : nodes\n",
      "        Nodes can be, for example, strings or numbers.\n",
      "        Nodes must be hashable (and not None) Python objects.\n",
      "    attr : keyword arguments, optional\n",
      "        Edge data (or labels or objects) can be assigned using\n",
      "        keyword arguments.\n",
      "    \n",
      "    See Also\n",
      "    --------\n",
      "    add_edges_from : add a collection of edges\n",
      "    \n",
      "    Notes\n",
      "    -----\n",
      "    Adding an edge that already exists updates the edge data.\n",
      "    \n",
      "    Many NetworkX algorithms designed for weighted graphs use\n",
      "    an edge attribute (by default `weight`) to hold a numerical value.\n",
      "    \n",
      "    Examples\n",
      "    --------\n",
      "    The following all add the edge e=(1, 2) to graph G:\n",
      "    \n",
      "    >>> G = nx.Graph()   # or DiGraph, MultiGraph, MultiDiGraph, etc\n",
      "    >>> e = (1, 2)\n",
      "    >>> G.add_edge(1, 2)           # explicit two-node form\n",
      "    >>> G.add_edge(*e)             # single edge as tuple of two nodes\n",
      "    >>> G.add_edges_from([(1, 2)])  # add edges from iterable container\n",
      "    \n",
      "    Associate data to edges using keywords:\n",
      "    \n",
      "    >>> G.add_edge(1, 2, weight=3)\n",
      "    >>> G.add_edge(1, 3, weight=7, capacity=15, length=342.7)\n",
      "    \n",
      "    For non-string attribute keys, use subscript notation.\n",
      "    \n",
      "    >>> G.add_edge(1, 2)\n",
      "    >>> G[1][2].update({0: 5})\n",
      "    >>> G.edges[1, 2].update({0: 5})\n",
      "\n"
     ]
    }
   ],
   "source": [
    "help(G.add_edge)"
   ]
  },
  {
   "cell_type": "code",
   "execution_count": null,
   "metadata": {},
   "outputs": [],
   "source": []
  }
 ],
 "metadata": {
  "kernelspec": {
   "display_name": "Python 3",
   "language": "python",
   "name": "python3"
  },
  "language_info": {
   "codemirror_mode": {
    "name": "ipython",
    "version": 3
   },
   "file_extension": ".py",
   "mimetype": "text/x-python",
   "name": "python",
   "nbconvert_exporter": "python",
   "pygments_lexer": "ipython3",
   "version": "3.7.3"
  }
 },
 "nbformat": 4,
 "nbformat_minor": 4
}
